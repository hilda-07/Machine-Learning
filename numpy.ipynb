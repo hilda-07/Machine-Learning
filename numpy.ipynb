{
  "nbformat": 4,
  "nbformat_minor": 0,
  "metadata": {
    "colab": {
      "provenance": []
    },
    "kernelspec": {
      "name": "python3",
      "display_name": "Python 3"
    },
    "language_info": {
      "name": "python"
    }
  },
  "cells": [
    {
      "cell_type": "code",
      "execution_count": 1,
      "metadata": {
        "colab": {
          "base_uri": "https://localhost:8080/"
        },
        "id": "UZdRs2d6ZJCd",
        "outputId": "a26e7e15-0e9c-4afc-b81a-e64c97d675c9"
      },
      "outputs": [
        {
          "output_type": "stream",
          "name": "stdout",
          "text": [
            "[1 2 3 4 5]\n",
            "[1 2 3 6 5]\n"
          ]
        }
      ],
      "source": [
        "\n",
        "import numpy as np\n",
        "\n",
        "arr = np.array([1, 2, 3, 4, 5])\n",
        "\n",
        "print(arr)\n",
        "\n",
        "arr[3] = 6\n",
        "\n",
        "print(arr)"
      ]
    },
    {
      "cell_type": "code",
      "source": [
        "\n",
        "import numpy as np\n",
        "arr = np.array([1, 2, 3, 4, 5, 6, 7, 8, 9, 10, 11, 12])\n",
        "print(arr)\n",
        "rearr = arr.reshape(4, 3)\n",
        "farr = rearr.flatten()\n",
        "print(rearr)\n",
        "print(farr)"
      ],
      "metadata": {
        "colab": {
          "base_uri": "https://localhost:8080/"
        },
        "id": "kUmc1TzmZS-L",
        "outputId": "004c33db-9ab3-4335-c5d9-8a75670631d1"
      },
      "execution_count": 2,
      "outputs": [
        {
          "output_type": "stream",
          "name": "stdout",
          "text": [
            "[ 1  2  3  4  5  6  7  8  9 10 11 12]\n",
            "[[ 1  2  3]\n",
            " [ 4  5  6]\n",
            " [ 7  8  9]\n",
            " [10 11 12]]\n",
            "[ 1  2  3  4  5  6  7  8  9 10 11 12]\n"
          ]
        }
      ]
    },
    {
      "cell_type": "code",
      "source": [
        "import numpy as np\n",
        "a1 = np.array([[1, 2], [3,4]])\n",
        "a2 = np.array([[11, 22], [33,44]])\n",
        "va=np.vstack((a1,a2))\n",
        "ha=np.hstack((a1,a2))\n",
        "print(va)\n",
        "print(ha)"
      ],
      "metadata": {
        "colab": {
          "base_uri": "https://localhost:8080/"
        },
        "id": "IjQhK6N9ZUNl",
        "outputId": "d0b3e11b-71f7-492c-91d2-23b074db2a2b"
      },
      "execution_count": 3,
      "outputs": [
        {
          "output_type": "stream",
          "name": "stdout",
          "text": [
            "[[ 1  2]\n",
            " [ 3  4]\n",
            " [11 22]\n",
            " [33 44]]\n",
            "[[ 1  2 11 22]\n",
            " [ 3  4 33 44]]\n"
          ]
        }
      ]
    },
    {
      "cell_type": "code",
      "source": [
        "\n",
        "\n",
        "import numpy\n",
        "arr = numpy.array([1, 5, 4, 8, 3, 7])\n",
        "max = numpy.max(arr)\n",
        "min = numpy.min(arr)\n",
        "mean = numpy.mean(arr)\n",
        "print('maximum element is: ',max)\n",
        "print('minimum element is: ',min)\n",
        "print('mean value is: ',mean)"
      ],
      "metadata": {
        "colab": {
          "base_uri": "https://localhost:8080/"
        },
        "id": "BaXNfJtvZX-2",
        "outputId": "a8abddbe-d20f-4394-dfe7-b3cf3ca0456c"
      },
      "execution_count": 4,
      "outputs": [
        {
          "output_type": "stream",
          "name": "stdout",
          "text": [
            "maximum element is:  8\n",
            "minimum element is:  1\n",
            "mean value is:  4.666666666666667\n"
          ]
        }
      ]
    },
    {
      "cell_type": "code",
      "source": [
        "\n",
        "import numpy as np\n",
        "oarr= np.arange(1,10)\n",
        "tarr=oarr.reshape(3,3)\n",
        "print (tarr)\n",
        "print(oarr)\n",
        "rarr= oarr[::-1]\n",
        "print (rarr)"
      ],
      "metadata": {
        "colab": {
          "base_uri": "https://localhost:8080/"
        },
        "id": "smfNAWfnZadf",
        "outputId": "fb0e1d43-d88d-4373-d020-8d7e975a3178"
      },
      "execution_count": 5,
      "outputs": [
        {
          "output_type": "stream",
          "name": "stdout",
          "text": [
            "[[1 2 3]\n",
            " [4 5 6]\n",
            " [7 8 9]]\n",
            "[1 2 3 4 5 6 7 8 9]\n",
            "[9 8 7 6 5 4 3 2 1]\n"
          ]
        }
      ]
    }
  ]
}